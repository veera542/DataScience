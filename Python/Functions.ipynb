{
  "nbformat": 4,
  "nbformat_minor": 0,
  "metadata": {
    "colab": {
      "provenance": []
    },
    "kernelspec": {
      "name": "python3",
      "display_name": "Python 3"
    },
    "language_info": {
      "name": "python"
    }
  },
  "cells": [
    {
      "cell_type": "code",
      "execution_count": null,
      "metadata": {
        "colab": {
          "base_uri": "https://localhost:8080/"
        },
        "id": "eXsGDpdn8Zx4",
        "outputId": "92ea86d6-43c4-48f9-b8c1-73d768b25eb6"
      },
      "outputs": [
        {
          "output_type": "stream",
          "name": "stdout",
          "text": [
            "100  > 10\n",
            "90  > 10\n",
            "80  > 10\n",
            "70  > 10\n",
            "60  > 10\n",
            "50  > 10\n",
            "40  > 10\n",
            "30  > 10\n",
            "20  > 10\n"
          ]
        }
      ],
      "source": [
        "a = 100\n",
        "\n",
        "while a > 10: # 100, 90, 80... , 20\n",
        "  print(a, ' > 10')\n",
        "  a -= 10 # 90, 80, 70, ... 20, 10"
      ]
    },
    {
      "cell_type": "code",
      "source": [
        "a = 100\n",
        "\n",
        "while a > 10: # 100, 90, 80... , 20\n",
        "  print(a, ' > 10')\n",
        "  a -= 10 # 90, 80, 70, ... 20, 10\n",
        "else:\n",
        "  print('I am in else section')"
      ],
      "metadata": {
        "colab": {
          "base_uri": "https://localhost:8080/"
        },
        "id": "_yPTbGjMJo_H",
        "outputId": "f8abe332-720e-4552-baf7-dea8f6cb105b"
      },
      "execution_count": null,
      "outputs": [
        {
          "output_type": "stream",
          "name": "stdout",
          "text": [
            "100  > 10\n",
            "90  > 10\n",
            "80  > 10\n",
            "70  > 10\n",
            "60  > 10\n",
            "50  > 10\n",
            "40  > 10\n",
            "30  > 10\n",
            "20  > 10\n",
            "I am in else section\n"
          ]
        }
      ]
    },
    {
      "cell_type": "code",
      "source": [
        "a = 100\n",
        "\n",
        "while a > 10:\n",
        "  if a == 50:\n",
        "    break\n",
        "  print(a, ' > 10')\n",
        "  a -= 10\n",
        "else:\n",
        "  print('I am in else section')"
      ],
      "metadata": {
        "colab": {
          "base_uri": "https://localhost:8080/"
        },
        "id": "62kRuo-jJ5KY",
        "outputId": "30202199-50ba-44e3-8b3e-4ac712b14473"
      },
      "execution_count": null,
      "outputs": [
        {
          "output_type": "stream",
          "name": "stdout",
          "text": [
            "100  > 10\n",
            "90  > 10\n",
            "80  > 10\n",
            "70  > 10\n",
            "60  > 10\n"
          ]
        }
      ]
    },
    {
      "cell_type": "code",
      "source": [
        "a = 100\n",
        "\n",
        "while a > 10:\n",
        "  print(a, ' > 10')\n",
        "\n",
        "a -= 10"
      ],
      "metadata": {
        "id": "zjnOtpM_Kkzw"
      },
      "execution_count": null,
      "outputs": []
    },
    {
      "cell_type": "code",
      "source": [
        "a = 100\n",
        "\n",
        "while a > 10:\n",
        "  a -= 10\n",
        "  if a == 50:\n",
        "    continue\n",
        "  print(a, ' > 10')\n",
        "\n",
        "else:\n",
        "  print('I am in else section')"
      ],
      "metadata": {
        "colab": {
          "base_uri": "https://localhost:8080/"
        },
        "id": "sMSs8WfbLRgk",
        "outputId": "df2f7aa2-37ab-4bb1-f8ac-cbaa81fdc990"
      },
      "execution_count": null,
      "outputs": [
        {
          "output_type": "stream",
          "name": "stdout",
          "text": [
            "90  > 10\n",
            "80  > 10\n",
            "70  > 10\n",
            "60  > 10\n",
            "40  > 10\n",
            "30  > 10\n",
            "20  > 10\n",
            "10  > 10\n",
            "I am in else section\n"
          ]
        }
      ]
    },
    {
      "cell_type": "code",
      "source": [
        "# print - function\n",
        "# type - function\n"
      ],
      "metadata": {
        "id": "-au3LzNpMLA3"
      },
      "execution_count": null,
      "outputs": []
    },
    {
      "cell_type": "markdown",
      "source": [
        "#**Built-in Functions**"
      ],
      "metadata": {
        "id": "wy_D1-mBNY35"
      }
    },
    {
      "cell_type": "code",
      "source": [
        "print(\"Built-in Functions\")"
      ],
      "metadata": {
        "colab": {
          "base_uri": "https://localhost:8080/"
        },
        "id": "CGG6tqeLNbg_",
        "outputId": "fa6dc9e9-e4d9-4b96-aace-9f188920ab09"
      },
      "execution_count": null,
      "outputs": [
        {
          "output_type": "stream",
          "name": "stdout",
          "text": [
            "Built-in Functions\n"
          ]
        }
      ]
    },
    {
      "cell_type": "code",
      "source": [
        "a = \"Built-in Functions\"\n",
        "print(a)\n",
        "print(type(a))"
      ],
      "metadata": {
        "colab": {
          "base_uri": "https://localhost:8080/"
        },
        "id": "Cl1ClCSiNlnY",
        "outputId": "6bc6236d-212f-45bd-b27a-48007c0f5b40"
      },
      "execution_count": null,
      "outputs": [
        {
          "output_type": "stream",
          "name": "stdout",
          "text": [
            "Built-in Functions\n",
            "<class 'str'>\n"
          ]
        }
      ]
    },
    {
      "cell_type": "code",
      "source": [
        "str1 = input(\"please enter valid string\")\n",
        "print(str1)\n",
        "print(type(str1))"
      ],
      "metadata": {
        "colab": {
          "base_uri": "https://localhost:8080/"
        },
        "id": "71wdxRlOOCGA",
        "outputId": "e64db6e4-02f4-42ce-e655-a6d78e0ded05"
      },
      "execution_count": null,
      "outputs": [
        {
          "output_type": "stream",
          "name": "stdout",
          "text": [
            "please enter valid string3.1414\n",
            "3.1414\n",
            "<class 'str'>\n"
          ]
        }
      ]
    },
    {
      "cell_type": "code",
      "source": [
        "int1 = int(input(\"enter valid integer\"))\n",
        "print(int1)\n",
        "print(type(int1))"
      ],
      "metadata": {
        "colab": {
          "base_uri": "https://localhost:8080/"
        },
        "id": "PWCsQ9PAO7bS",
        "outputId": "559d7f17-37d7-4eed-ab38-7c3a2d6fd39d"
      },
      "execution_count": null,
      "outputs": [
        {
          "output_type": "stream",
          "name": "stdout",
          "text": [
            "enter valid integer12\n",
            "12\n",
            "<class 'int'>\n"
          ]
        }
      ]
    },
    {
      "cell_type": "code",
      "source": [
        "flt1 = float(input(\"enter valid float value\"))\n",
        "print(flt1)\n",
        "print(type(flt1))"
      ],
      "metadata": {
        "colab": {
          "base_uri": "https://localhost:8080/"
        },
        "id": "3KfBFMRVPXEY",
        "outputId": "874718b1-fb93-4bd0-d6c6-d3571dfb4299"
      },
      "execution_count": null,
      "outputs": [
        {
          "output_type": "stream",
          "name": "stdout",
          "text": [
            "enter valid float value3.1414\n",
            "3.1414\n",
            "<class 'float'>\n"
          ]
        }
      ]
    },
    {
      "cell_type": "code",
      "source": [
        "del bool1\n",
        "bool1 = bool(input(\"enter valid boolean value \"))\n",
        "print(bool1)\n",
        "print(type(bool1))"
      ],
      "metadata": {
        "colab": {
          "base_uri": "https://localhost:8080/"
        },
        "id": "5PGp5BpRPnmY",
        "outputId": "8f353138-1226-4411-ba6a-13db278eebcb"
      },
      "execution_count": null,
      "outputs": [
        {
          "output_type": "stream",
          "name": "stdout",
          "text": [
            "enter valid boolean value False\n",
            "True\n",
            "<class 'bool'>\n"
          ]
        }
      ]
    },
    {
      "cell_type": "code",
      "source": [
        "int1 = 0\n",
        "print(bool(int1))\n",
        "\n",
        "int1 = 1\n",
        "print(bool(int1))\n",
        "\n",
        "flt1 = 0.00\n",
        "print(bool(flt1))\n",
        "\n",
        "flt1 = 3.14\n",
        "print(bool(flt1))\n",
        "\n",
        "cmplx1 = 0+0j\n",
        "print(bool(cmplx1))\n",
        "\n",
        "cmplx1 = 4+8j\n",
        "print(bool(cmplx1))\n",
        "\n",
        "bool1 = False\n",
        "print(bool(bool1))\n",
        "\n",
        "bool1 = True\n",
        "print(bool(bool1))\n",
        "\n",
        "str1 = 'False'\n",
        "print(bool(str1))\n",
        "\n",
        "str1 = 'True'\n",
        "print(bool(str1))\n"
      ],
      "metadata": {
        "colab": {
          "base_uri": "https://localhost:8080/"
        },
        "id": "sOpNNB7mSVE2",
        "outputId": "e2edd7ab-8e3d-4715-b896-5d9e0262a116"
      },
      "execution_count": null,
      "outputs": [
        {
          "output_type": "stream",
          "name": "stdout",
          "text": [
            "False\n",
            "True\n",
            "False\n",
            "True\n",
            "False\n",
            "True\n",
            "False\n",
            "True\n",
            "True\n",
            "True\n"
          ]
        }
      ]
    },
    {
      "cell_type": "code",
      "source": [
        "int1 = input(\"enter valid integer\")\n",
        "print(type(int1))\n",
        "print(bool(int1))\n",
        "\n",
        "flt1 = input(\"enter valid float\")\n",
        "print(type(flt1))\n",
        "print(bool(flt1))\n",
        "\n",
        "cmplx1 = input(\"enter valid complex\")\n",
        "print(type(cmplx1))\n",
        "print(bool(cmplx1))\n",
        "\n",
        "bool1 = input(\"enter valid boolean\")\n",
        "print(type(bool1))\n",
        "print(bool(bool1))\n",
        "\n",
        "str1 = input(\"enter valid string\")\n",
        "print(type(str1))\n",
        "print(bool(str1))"
      ],
      "metadata": {
        "colab": {
          "base_uri": "https://localhost:8080/"
        },
        "id": "v995XZq6SrBh",
        "outputId": "b92cc250-83a2-4430-cf27-a0f655f9c879"
      },
      "execution_count": null,
      "outputs": [
        {
          "output_type": "stream",
          "name": "stdout",
          "text": [
            "enter valid integer12\n",
            "<class 'str'>\n",
            "True\n",
            "enter valid float12.22\n",
            "<class 'str'>\n",
            "True\n",
            "enter valid complex12+12j\n",
            "<class 'str'>\n",
            "True\n",
            "enter valid booleanTrue\n",
            "<class 'str'>\n",
            "True\n",
            "enter valid stringFalse\n",
            "<class 'str'>\n",
            "True\n"
          ]
        }
      ]
    },
    {
      "cell_type": "code",
      "source": [
        "cmplx1 = complex(input(\"enter valid complex number \"))\n",
        "print(cmplx1)\n",
        "print(type(cmplx1))"
      ],
      "metadata": {
        "colab": {
          "base_uri": "https://localhost:8080/"
        },
        "id": "eixVzVTqQoda",
        "outputId": "ac250749-3b17-49b2-907e-54ddb1434b34"
      },
      "execution_count": null,
      "outputs": [
        {
          "output_type": "stream",
          "name": "stdout",
          "text": [
            "enter valid complex number 12\n",
            "(12+0j)\n",
            "<class 'complex'>\n"
          ]
        }
      ]
    },
    {
      "cell_type": "code",
      "source": [
        "int()\n",
        "float()\n",
        "complex()\n",
        "bool()\n",
        "str()\n",
        "list()\n",
        "tuple()\n",
        "set()\n",
        "dict()"
      ],
      "metadata": {
        "id": "xLfk2qzCRZRK"
      },
      "execution_count": null,
      "outputs": []
    },
    {
      "cell_type": "code",
      "source": [
        "x = dict(name = \"John\", age = 36, country = \"Norway\")\n",
        "print(x)"
      ],
      "metadata": {
        "colab": {
          "base_uri": "https://localhost:8080/"
        },
        "id": "W6n2HTESYR41",
        "outputId": "b22924c5-c082-4671-d2d9-855b0112cc19"
      },
      "execution_count": null,
      "outputs": [
        {
          "output_type": "stream",
          "name": "stdout",
          "text": [
            "{'name': 'John', 'age': 36, 'country': 'Norway'}\n"
          ]
        }
      ]
    },
    {
      "cell_type": "code",
      "source": [
        "tup1 = (1,2,3,4,5,6,7,8,9,10)\n",
        "print(tup1)\n",
        "lst1 = list(tup1)\n",
        "print(lst1)\n",
        "lst1.append(19)\n",
        "print(lst1)\n",
        "lst1.extend([22,33,44,55])\n",
        "print(lst1)\n",
        "lst1.insert(0,70)\n",
        "print(lst1)\n",
        "print(tuple(lst1))"
      ],
      "metadata": {
        "colab": {
          "base_uri": "https://localhost:8080/"
        },
        "id": "PZ0t7Q6UZ3jE",
        "outputId": "1bc22e22-ef63-43e8-aeb5-2abd7b6c3fcb"
      },
      "execution_count": null,
      "outputs": [
        {
          "output_type": "stream",
          "name": "stdout",
          "text": [
            "(1, 2, 3, 4, 5, 6, 7, 8, 9, 10)\n",
            "[1, 2, 3, 4, 5, 6, 7, 8, 9, 10]\n",
            "[1, 2, 3, 4, 5, 6, 7, 8, 9, 10, 19]\n",
            "[1, 2, 3, 4, 5, 6, 7, 8, 9, 10, 19, 22, 33, 44, 55]\n",
            "[70, 1, 2, 3, 4, 5, 6, 7, 8, 9, 10, 19, 22, 33, 44, 55]\n",
            "(70, 1, 2, 3, 4, 5, 6, 7, 8, 9, 10, 19, 22, 33, 44, 55)\n"
          ]
        }
      ]
    },
    {
      "cell_type": "code",
      "source": [
        "for i in range(100):\n",
        "  print('decimal ', i)\n",
        "  print('binary ', bin(i))\n",
        "  print('octa ', oct(i))\n",
        "  print('hex ', hex(i))"
      ],
      "metadata": {
        "id": "eCAUjrVtcGcW"
      },
      "execution_count": null,
      "outputs": []
    },
    {
      "cell_type": "code",
      "source": [
        "print (\"decimal'          'binary'          'oct'          'hex     \")\n",
        "for i in range(100):\n",
        "  print (i,'          ',bin(i),'          ',oct(i),'          ',hex(i)   )"
      ],
      "metadata": {
        "colab": {
          "base_uri": "https://localhost:8080/"
        },
        "id": "FLkqYbYVdsTK",
        "outputId": "54188cf3-bb1d-4faf-8454-11b760dff338"
      },
      "execution_count": null,
      "outputs": [
        {
          "output_type": "stream",
          "name": "stdout",
          "text": [
            "decimal'          'binary'          'oct'          'hex     \n",
            "0            0b0            0o0            0x0\n",
            "1            0b1            0o1            0x1\n",
            "2            0b10            0o2            0x2\n",
            "3            0b11            0o3            0x3\n",
            "4            0b100            0o4            0x4\n",
            "5            0b101            0o5            0x5\n",
            "6            0b110            0o6            0x6\n",
            "7            0b111            0o7            0x7\n",
            "8            0b1000            0o10            0x8\n",
            "9            0b1001            0o11            0x9\n",
            "10            0b1010            0o12            0xa\n",
            "11            0b1011            0o13            0xb\n",
            "12            0b1100            0o14            0xc\n",
            "13            0b1101            0o15            0xd\n",
            "14            0b1110            0o16            0xe\n",
            "15            0b1111            0o17            0xf\n",
            "16            0b10000            0o20            0x10\n",
            "17            0b10001            0o21            0x11\n",
            "18            0b10010            0o22            0x12\n",
            "19            0b10011            0o23            0x13\n",
            "20            0b10100            0o24            0x14\n",
            "21            0b10101            0o25            0x15\n",
            "22            0b10110            0o26            0x16\n",
            "23            0b10111            0o27            0x17\n",
            "24            0b11000            0o30            0x18\n",
            "25            0b11001            0o31            0x19\n",
            "26            0b11010            0o32            0x1a\n",
            "27            0b11011            0o33            0x1b\n",
            "28            0b11100            0o34            0x1c\n",
            "29            0b11101            0o35            0x1d\n",
            "30            0b11110            0o36            0x1e\n",
            "31            0b11111            0o37            0x1f\n",
            "32            0b100000            0o40            0x20\n",
            "33            0b100001            0o41            0x21\n",
            "34            0b100010            0o42            0x22\n",
            "35            0b100011            0o43            0x23\n",
            "36            0b100100            0o44            0x24\n",
            "37            0b100101            0o45            0x25\n",
            "38            0b100110            0o46            0x26\n",
            "39            0b100111            0o47            0x27\n",
            "40            0b101000            0o50            0x28\n",
            "41            0b101001            0o51            0x29\n",
            "42            0b101010            0o52            0x2a\n",
            "43            0b101011            0o53            0x2b\n",
            "44            0b101100            0o54            0x2c\n",
            "45            0b101101            0o55            0x2d\n",
            "46            0b101110            0o56            0x2e\n",
            "47            0b101111            0o57            0x2f\n",
            "48            0b110000            0o60            0x30\n",
            "49            0b110001            0o61            0x31\n",
            "50            0b110010            0o62            0x32\n",
            "51            0b110011            0o63            0x33\n",
            "52            0b110100            0o64            0x34\n",
            "53            0b110101            0o65            0x35\n",
            "54            0b110110            0o66            0x36\n",
            "55            0b110111            0o67            0x37\n",
            "56            0b111000            0o70            0x38\n",
            "57            0b111001            0o71            0x39\n",
            "58            0b111010            0o72            0x3a\n",
            "59            0b111011            0o73            0x3b\n",
            "60            0b111100            0o74            0x3c\n",
            "61            0b111101            0o75            0x3d\n",
            "62            0b111110            0o76            0x3e\n",
            "63            0b111111            0o77            0x3f\n",
            "64            0b1000000            0o100            0x40\n",
            "65            0b1000001            0o101            0x41\n",
            "66            0b1000010            0o102            0x42\n",
            "67            0b1000011            0o103            0x43\n",
            "68            0b1000100            0o104            0x44\n",
            "69            0b1000101            0o105            0x45\n",
            "70            0b1000110            0o106            0x46\n",
            "71            0b1000111            0o107            0x47\n",
            "72            0b1001000            0o110            0x48\n",
            "73            0b1001001            0o111            0x49\n",
            "74            0b1001010            0o112            0x4a\n",
            "75            0b1001011            0o113            0x4b\n",
            "76            0b1001100            0o114            0x4c\n",
            "77            0b1001101            0o115            0x4d\n",
            "78            0b1001110            0o116            0x4e\n",
            "79            0b1001111            0o117            0x4f\n",
            "80            0b1010000            0o120            0x50\n",
            "81            0b1010001            0o121            0x51\n",
            "82            0b1010010            0o122            0x52\n",
            "83            0b1010011            0o123            0x53\n",
            "84            0b1010100            0o124            0x54\n",
            "85            0b1010101            0o125            0x55\n",
            "86            0b1010110            0o126            0x56\n",
            "87            0b1010111            0o127            0x57\n",
            "88            0b1011000            0o130            0x58\n",
            "89            0b1011001            0o131            0x59\n",
            "90            0b1011010            0o132            0x5a\n",
            "91            0b1011011            0o133            0x5b\n",
            "92            0b1011100            0o134            0x5c\n",
            "93            0b1011101            0o135            0x5d\n",
            "94            0b1011110            0o136            0x5e\n",
            "95            0b1011111            0o137            0x5f\n",
            "96            0b1100000            0o140            0x60\n",
            "97            0b1100001            0o141            0x61\n",
            "98            0b1100010            0o142            0x62\n",
            "99            0b1100011            0o143            0x63\n"
          ]
        }
      ]
    },
    {
      "cell_type": "code",
      "source": [
        "abs(-1977)"
      ],
      "metadata": {
        "colab": {
          "base_uri": "https://localhost:8080/"
        },
        "id": "3HoFg3SVf465",
        "outputId": "37bc721d-7783-444b-ac83-f8b8ac1d81a8"
      },
      "execution_count": null,
      "outputs": [
        {
          "output_type": "execute_result",
          "data": {
            "text/plain": [
              "1977"
            ]
          },
          "metadata": {},
          "execution_count": 37
        }
      ]
    },
    {
      "cell_type": "code",
      "source": [
        "abs(-3.14)"
      ],
      "metadata": {
        "colab": {
          "base_uri": "https://localhost:8080/"
        },
        "id": "uDR9ioaDf-rA",
        "outputId": "fe05ce2e-651a-4f3d-e6cc-7920a9c3120d"
      },
      "execution_count": null,
      "outputs": [
        {
          "output_type": "execute_result",
          "data": {
            "text/plain": [
              "3.14"
            ]
          },
          "metadata": {},
          "execution_count": 38
        }
      ]
    },
    {
      "cell_type": "code",
      "source": [
        "# all() - Returns True if all items in an iterable object are true\n",
        "\n",
        "lst1 = [0,1,2,3,4,5]\n",
        "all(lst1)"
      ],
      "metadata": {
        "colab": {
          "base_uri": "https://localhost:8080/"
        },
        "id": "X1Yj_PZygLg6",
        "outputId": "3ad6f6ff-c679-4037-e9f1-e8465c8f74a4"
      },
      "execution_count": null,
      "outputs": [
        {
          "output_type": "execute_result",
          "data": {
            "text/plain": [
              "False"
            ]
          },
          "metadata": {},
          "execution_count": 40
        }
      ]
    },
    {
      "cell_type": "code",
      "source": [
        "lst1 = [0.000000000000000000000000000000000000000000000000000000000001,-0.5,-0.4,-0.03,-0.002,0.0001,0.5,0.4,0.03,0.002,0.0001]\n",
        "all(lst1)"
      ],
      "metadata": {
        "colab": {
          "base_uri": "https://localhost:8080/"
        },
        "id": "xBkRq00Hgt_2",
        "outputId": "38bed892-d5b2-45a3-f1e2-76b626321b59"
      },
      "execution_count": null,
      "outputs": [
        {
          "output_type": "execute_result",
          "data": {
            "text/plain": [
              "True"
            ]
          },
          "metadata": {},
          "execution_count": 42
        }
      ]
    },
    {
      "cell_type": "code",
      "source": [
        "lst1 = [0,1,2,3,4,5]\n",
        "any(lst1)"
      ],
      "metadata": {
        "colab": {
          "base_uri": "https://localhost:8080/"
        },
        "id": "q7LzuzEchPMD",
        "outputId": "12ab3a4f-17ea-4e62-8cea-d2cdf29d4623"
      },
      "execution_count": null,
      "outputs": [
        {
          "output_type": "execute_result",
          "data": {
            "text/plain": [
              "True"
            ]
          },
          "metadata": {},
          "execution_count": 43
        }
      ]
    },
    {
      "cell_type": "code",
      "source": [
        "lst1 = [0, False]\n",
        "any(lst1)"
      ],
      "metadata": {
        "colab": {
          "base_uri": "https://localhost:8080/"
        },
        "id": "uvVL6mozhvk4",
        "outputId": "783b4438-5b23-4a01-afb8-f2fec1fff87c"
      },
      "execution_count": null,
      "outputs": [
        {
          "output_type": "execute_result",
          "data": {
            "text/plain": [
              "False"
            ]
          },
          "metadata": {},
          "execution_count": 44
        }
      ]
    }
  ]
}